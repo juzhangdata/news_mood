{
 "cells": [
  {
   "cell_type": "code",
   "execution_count": null,
   "metadata": {},
   "outputs": [],
   "source": [
    "consumer_key = \"rnMsljHPMOTTh5ajgQ6UglBeo\"\n",
    "consumer_secret = \"wkEUaXT5OKj8C9dyE5NHqU1NQQhU501IrOvxbpJhBJueMUO1hH\"\n",
    "access_token = \"270895064-sGfSXEJe5I4vsF1jUQcT35cfeFASwrHXVCrsv6J8\"\n",
    "access_token_secret = \"Y04psn3gkalQBUWrvuGrlWphIoQfYD2UUV9mjihaubZOa\""
   ]
  }
 ],
 "metadata": {
  "kernelspec": {
   "display_name": "Python [conda env:PythonData]",
   "language": "python",
   "name": "conda-env-PythonData-py"
  },
  "language_info": {
   "codemirror_mode": {
    "name": "ipython",
    "version": 3
   },
   "file_extension": ".py",
   "mimetype": "text/x-python",
   "name": "python",
   "nbconvert_exporter": "python",
   "pygments_lexer": "ipython3",
   "version": "3.6.4"
  }
 },
 "nbformat": 4,
 "nbformat_minor": 2
}
